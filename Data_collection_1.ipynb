{
 "cells": [
  {
   "cell_type": "code",
   "execution_count": 1,
   "metadata": {},
   "outputs": [],
   "source": [
    "import GetOldTweets3 as got\n",
    "from bs4 import BeautifulSoup\n",
    "import pandas as pd\n",
    "import requests\n",
    "import time\n",
    "import pickle\n",
    "from datetime import date,timedelta"
   ]
  },
  {
   "cell_type": "markdown",
   "metadata": {},
   "source": [
    "### Tweet sweep"
   ]
  },
  {
   "cell_type": "code",
   "execution_count": 3,
   "metadata": {},
   "outputs": [],
   "source": [
    "to_df = []\n",
    "tweetCriteria = got.manager.TweetCriteria().setUsername('KCBSAMFMTraffic')\\\n",
    "                                       .setSince('2019-01-01')\\\n",
    "                                       .setUntil('2020-01-01')\\\n",
    "                                       .setMaxTweets(5000)\n",
    "tweet = got.manager.TweetManager.getTweets(tweetCriteria)\n",
    "for i in range(len(tweet)):\n",
    "    toappend = {}\n",
    "    toappend['date'] = tweet[i].formatted_date\n",
    "    toappend['id'] = tweet[i].author_id\n",
    "    toappend['tweet'] = tweet[i].text\n",
    "    to_df.append(toappend)\n",
    "    \n",
    "df = pd.DataFrame(to_df)\n",
    "df.to_csv('./data/kcbsamfmtraffic.csv',index=False)"
   ]
  },
  {
   "cell_type": "markdown",
   "metadata": {},
   "source": [
    "### Not so clean tweets"
   ]
  },
  {
   "cell_type": "code",
   "execution_count": 19,
   "metadata": {},
   "outputs": [],
   "source": [
    "to_df = []\n",
    "accounts = ['TrafficOn17','CaltransD5','Cruz_511','FireDispatchSC']\n",
    "def tweets_to_df(twit):    \n",
    "    #'TrafficOn17','CaltransD5','Cruz_511','FireDispatchSC'\n",
    "    tweetCriteria = got.manager.TweetCriteria().setUsername(twit)\\\n",
    "                                           .setSince(\"2019-01-01\")\\\n",
    "                                           .setUntil(\"2020-01-01\")\n",
    "    tweet = got.manager.TweetManager.getTweets(tweetCriteria)\n",
    "\n",
    "    for i in range(len(tweet)):\n",
    "        toappend = {}\n",
    "        toappend['date'] = tweet[i].formatted_date\n",
    "        toappend['id'] = tweet[i].author_id\n",
    "        toappend['tweet'] = tweet[i].text\n",
    "        to_df.append(toappend)\n",
    "        \n",
    "for account in accounts:\n",
    "    to_df = []\n",
    "    pd.DataFrame(tweets_to_df(account)).to_csv('./data/'+account+'.csv',index=False)\n",
    "    time.sleep(3600)"
   ]
  },
  {
   "cell_type": "code",
   "execution_count": null,
   "metadata": {},
   "outputs": [],
   "source": []
  }
 ],
 "metadata": {
  "kernelspec": {
   "display_name": "Python 3",
   "language": "python",
   "name": "python3"
  },
  "language_info": {
   "codemirror_mode": {
    "name": "ipython",
    "version": 3
   },
   "file_extension": ".py",
   "mimetype": "text/x-python",
   "name": "python",
   "nbconvert_exporter": "python",
   "pygments_lexer": "ipython3",
   "version": "3.7.4"
  }
 },
 "nbformat": 4,
 "nbformat_minor": 2
}
