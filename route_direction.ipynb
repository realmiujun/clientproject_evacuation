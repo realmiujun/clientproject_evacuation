{
 "cells": [
  {
   "cell_type": "code",
   "execution_count": 1,
   "metadata": {},
   "outputs": [
    {
     "data": {
      "application/vnd.jupyter.widget-view+json": {
       "model_id": "00155ddac87e419baab7d564ffc34cb9",
       "version_major": 2,
       "version_minor": 0
      },
      "text/plain": [
       "Figure(layout=FigureLayout(height='420px'))"
      ]
     },
     "metadata": {},
     "output_type": "display_data"
    }
   ],
   "source": [
    "import pandas as pd\n",
    "import numpy as np\n",
    "import requests\n",
    "import gmaps\n",
    "\n",
    "with open (\"C:/Users/yingr/Documents/IngridWang/IngridWang/GA/apik.txt\", \"r\") as myfile:\n",
    "    api_key = myfile.read().replace('\\n', '')\n",
    "\n",
    "addr_from = '1156 High St, Santa Cruz, CA 95064'\n",
    "addr_to = '710 Front St, Santa Cruz, CA 95060'\n",
    "addr_f = addr_from.replace(' ','+')\n",
    "addr_t = addr_to.replace(' ','+')\n",
    "\n",
    "addr_f = addr_from.replace(' ','%20')\n",
    "\n",
    "url_f = f'https://maps.googleapis.com/maps/api/place/findplacefromtext/json?input={addr_f}&inputtype=textquery&fields=geometry&key='+api_key\n",
    "res_f = requests.get(url_f)\n",
    "result_f = res_f.json()\n",
    "loc_from=result_f['candidates'][0]['geometry']['location']['lat'],result_f['candidates'][0]['geometry']['location']['lng']\n",
    "\n",
    "\n",
    "url_f = f'https://maps.googleapis.com/maps/api/geocode/json?address={addr_f}&key={api_key}'\n",
    "url_t = f'https://maps.googleapis.com/maps/api/geocode/json?address={addr_t}&key={api_key}'\n",
    "\n",
    "res_f = requests.get(url_f)\n",
    "result_f = res_f.json()\n",
    "res_t = requests.get(url_t)\n",
    "result_t = res_t.json()\n",
    "\n",
    "loc_from = (result_f['results'][0]['geometry']['location']['lat'],result_f['results'][0]['geometry']['location']['lng'])\n",
    "loc_to = (result_t['results'][0]['geometry']['location']['lat'],result_t['results'][0]['geometry']['location']['lng'])\n",
    "\n",
    "gmaps.configure(api_key)\n",
    "fig = gmaps.figure()\n",
    "loc_from2loc_to = gmaps.directions_layer(loc_from, loc_to)\n",
    "fig.add_layer(loc_from2loc_to)\n",
    "fig\n"
   ]
  }
 ],
 "metadata": {
  "kernelspec": {
   "display_name": "Python 3",
   "language": "python",
   "name": "python3"
  },
  "language_info": {
   "codemirror_mode": {
    "name": "ipython",
    "version": 3
   },
   "file_extension": ".py",
   "mimetype": "text/x-python",
   "name": "python",
   "nbconvert_exporter": "python",
   "pygments_lexer": "ipython3",
   "version": "3.7.4"
  }
 },
 "nbformat": 4,
 "nbformat_minor": 2
}
